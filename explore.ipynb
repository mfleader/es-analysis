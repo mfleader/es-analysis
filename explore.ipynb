{
 "cells": [
  {
   "cell_type": "code",
   "execution_count": 1,
   "metadata": {
    "collapsed": true
   },
   "outputs": [],
   "source": [
    "import elasticsearch\n",
    "import elasticsearch_dsl\n",
    "import pandasticsearch\n",
    "import os\n"
   ]
  },
  {
   "cell_type": "markdown",
   "source": [
    "Don't forget to set ELASTICSEARCH_URL in your environment.\n"
   ],
   "metadata": {
    "collapsed": false,
    "pycharm": {
     "name": "#%% md\n"
    }
   }
  },
  {
   "cell_type": "code",
   "execution_count": 3,
   "outputs": [],
   "source": [
    "es = elasticsearch.Elasticsearch(\n",
    "  os.getenv('ELASTICSEARCH_URL')\n",
    ")"
   ],
   "metadata": {
    "collapsed": false,
    "pycharm": {
     "name": "#%%\n"
    }
   }
  },
  {
   "cell_type": "code",
   "execution_count": 4,
   "outputs": [],
   "source": [
    "# es.indices.get_alias('*')"
   ],
   "metadata": {
    "collapsed": false,
    "pycharm": {
     "name": "#%%\n"
    }
   }
  },
  {
   "cell_type": "code",
   "execution_count": 7,
   "outputs": [],
   "source": [
    "docs = es.search(index = 'mb', body = {})"
   ],
   "metadata": {
    "collapsed": false,
    "pycharm": {
     "name": "#%%\n"
    }
   }
  },
  {
   "cell_type": "code",
   "execution_count": 12,
   "outputs": [
    {
     "data": {
      "text/plain": "{'took': 0,\n 'timed_out': False,\n '_shards': {'total': 5, 'successful': 5, 'skipped': 0, 'failed': 0},\n 'hits': {'total': {'value': 33, 'relation': 'eq'},\n  'max_score': 1.0,\n  'hits': [{'_index': 'mb',\n    '_type': '_doc',\n    '_id': 'IUkOxnMBorHmjmbLUHuN',\n    '_score': 1.0,\n    '_source': {'uuid': '73770cda-358a-424a-8790-c39091874fb6',\n     'test_type': 'http',\n     'test_name': '2r-large-4.5-OVN',\n     'routes': 4,\n     'conn_per_targetroute': 1,\n     'keepalive': 1,\n     'tls_reuse': 'y',\n     'delay': 0,\n     'runtime': 10,\n     'requests_per_second': 1153.5,\n     'latency_95pctl': 5.039,\n     'num_workload_generators': 1,\n     'timestamp_newyork': '2020-08-06T23:14:53.696878'}},\n   {'_index': 'mb',\n    '_type': '_doc',\n    '_id': 'L0lOxnMBorHmjmbLiHtc',\n    '_score': 1.0,\n    '_source': {'uuid': 'f562f52d-a11b-404d-ac79-930c45e62c42',\n     'test_type': 'mix',\n     'test_name': 'smoke',\n     'routes': 400,\n     'conn_per_targetroute': 1,\n     'keepalive': 100,\n     'tls_reuse': 'y',\n     'delay': 0,\n     'runtime': 5,\n     'requests_per_second': 57510.4,\n     'latency_95pctl': 14.395,\n     'num_workload_generators': 1,\n     'timestamp_newyork': '2020-08-07T00:25:02.294226'}},\n   {'_index': 'mb',\n    '_type': '_doc',\n    '_id': 'MElOxnMBorHmjmbLiXsV',\n    '_score': 1.0,\n    '_source': {'uuid': 'f562f52d-a11b-404d-ac79-930c45e62c42',\n     'test_type': 'mix',\n     'test_name': 'smoke',\n     'routes': 400,\n     'conn_per_targetroute': 80,\n     'keepalive': 1,\n     'tls_reuse': 'y',\n     'delay': 0,\n     'runtime': 5,\n     'requests_per_second': 3497.6,\n     'latency_95pctl': 3284.57,\n     'num_workload_generators': 1,\n     'timestamp_newyork': '2020-08-07T00:25:02.480181'}},\n   {'_index': 'mb',\n    '_type': '_doc',\n    '_id': 'O0l_xnMBorHmjmbLSXux',\n    '_score': 1.0,\n    '_source': {'uuid': 'c4fdebf9-8efa-4029-9540-7c8ef154bfa4',\n     'test_type': 'http',\n     'test_name': 'smoke',\n     'routes': 100,\n     'conn_per_targetroute': 200,\n     'keepalive': 1,\n     'tls_reuse': 'y',\n     'delay': 0,\n     'runtime': 5,\n     'requests_per_second': 10066.4,\n     'latency_95pctl': 3135.85,\n     'num_workload_generators': 1,\n     'timestamp_newyork': '2020-08-07T01:18:17.515466'}},\n   {'_index': 'mb',\n    '_type': '_doc',\n    '_id': 'PUl_xnMBorHmjmbLS3si',\n    '_score': 1.0,\n    '_source': {'uuid': 'c4fdebf9-8efa-4029-9540-7c8ef154bfa4',\n     'test_type': 'http',\n     'test_name': 'smoke',\n     'routes': 100,\n     'conn_per_targetroute': 200,\n     'keepalive': 100,\n     'tls_reuse': 'y',\n     'delay': 0,\n     'runtime': 5,\n     'requests_per_second': 39713.8,\n     'latency_95pctl': 1088.48,\n     'num_workload_generators': 1,\n     'timestamp_newyork': '2020-08-07T01:18:17.885016'}},\n   {'_index': 'mb',\n    '_type': '_doc',\n    '_id': 'P0l_xnMBorHmjmbLTHuS',\n    '_score': 1.0,\n    '_source': {'uuid': 'c4fdebf9-8efa-4029-9540-7c8ef154bfa4',\n     'test_type': 'mix',\n     'test_name': 'smoke',\n     'routes': 400,\n     'conn_per_targetroute': 1,\n     'keepalive': 100,\n     'tls_reuse': 'y',\n     'delay': 0,\n     'runtime': 5,\n     'requests_per_second': 34938.6,\n     'latency_95pctl': 24.11,\n     'num_workload_generators': 1,\n     'timestamp_newyork': '2020-08-07T01:18:18.253334'}},\n   {'_index': 'mb',\n    '_type': '_doc',\n    '_id': 'I0lOxnMBorHmjmbLf3t2',\n    '_score': 1.0,\n    '_source': {'uuid': 'f562f52d-a11b-404d-ac79-930c45e62c42',\n     'test_type': 'mix',\n     'test_name': 'smoke',\n     'routes': 40,\n     'conn_per_targetroute': 1,\n     'keepalive': 100,\n     'tls_reuse': 'y',\n     'delay': 0,\n     'runtime': 5,\n     'requests_per_second': 16722.8,\n     'latency_95pctl': 2.994,\n     'num_workload_generators': 1,\n     'timestamp_newyork': '2020-08-07T00:24:59.997896'}},\n   {'_index': 'mb',\n    '_type': '_doc',\n    '_id': 'K0lOxnMBorHmjmbLhXty',\n    '_score': 1.0,\n    '_source': {'uuid': 'f562f52d-a11b-404d-ac79-930c45e62c42',\n     'test_type': 'http',\n     'test_name': 'smoke',\n     'routes': 100,\n     'conn_per_targetroute': 200,\n     'keepalive': 1,\n     'tls_reuse': 'y',\n     'delay': 0,\n     'runtime': 5,\n     'requests_per_second': 9279.8,\n     'latency_95pctl': 3437.29,\n     'num_workload_generators': 1,\n     'timestamp_newyork': '2020-08-07T00:25:01.548634'}},\n   {'_index': 'mb',\n    '_type': '_doc',\n    '_id': 'LElOxnMBorHmjmbLhnss',\n    '_score': 1.0,\n    '_source': {'uuid': 'f562f52d-a11b-404d-ac79-930c45e62c42',\n     'test_type': 'edge',\n     'test_name': 'smoke',\n     'routes': 100,\n     'conn_per_targetroute': 200,\n     'keepalive': 100,\n     'tls_reuse': 'y',\n     'delay': 0,\n     'runtime': 5,\n     'requests_per_second': 95.6,\n     'latency_95pctl': 6766.12,\n     'num_workload_generators': 1,\n     'timestamp_newyork': '2020-08-07T00:25:01.735382'}},\n   {'_index': 'mb',\n    '_type': '_doc',\n    '_id': 'LklOxnMBorHmjmbLh3uj',\n    '_score': 1.0,\n    '_source': {'uuid': 'f562f52d-a11b-404d-ac79-930c45e62c42',\n     'test_type': 'mix',\n     'test_name': 'smoke',\n     'routes': 400,\n     'conn_per_targetroute': 1,\n     'keepalive': 1,\n     'tls_reuse': 'y',\n     'delay': 0,\n     'runtime': 5,\n     'requests_per_second': 5627.8,\n     'latency_95pctl': 162.619,\n     'num_workload_generators': 1,\n     'timestamp_newyork': '2020-08-07T00:25:02.106998'}}]}}"
     },
     "execution_count": 12,
     "metadata": {},
     "output_type": "execute_result"
    }
   ],
   "source": [
    "docs"
   ],
   "metadata": {
    "collapsed": false,
    "pycharm": {
     "name": "#%%\n"
    }
   }
  },
  {
   "cell_type": "code",
   "execution_count": 11,
   "outputs": [
    {
     "data": {
      "text/plain": "4"
     },
     "execution_count": 11,
     "metadata": {},
     "output_type": "execute_result"
    }
   ],
   "source": [
    "len(docs.keys())"
   ],
   "metadata": {
    "collapsed": false,
    "pycharm": {
     "name": "#%%\n"
    }
   }
  },
  {
   "cell_type": "code",
   "execution_count": null,
   "outputs": [],
   "source": [],
   "metadata": {
    "collapsed": false,
    "pycharm": {
     "name": "#%%\n"
    }
   }
  },
  {
   "cell_type": "code",
   "execution_count": 15,
   "outputs": [
    {
     "data": {
      "text/plain": "  _index _type                   _id  _score  \\\n0     mb  _doc  IUkOxnMBorHmjmbLUHuN     1.0   \n1     mb  _doc  L0lOxnMBorHmjmbLiHtc     1.0   \n2     mb  _doc  MElOxnMBorHmjmbLiXsV     1.0   \n3     mb  _doc  O0l_xnMBorHmjmbLSXux     1.0   \n4     mb  _doc  PUl_xnMBorHmjmbLS3si     1.0   \n5     mb  _doc  P0l_xnMBorHmjmbLTHuS     1.0   \n6     mb  _doc  I0lOxnMBorHmjmbLf3t2     1.0   \n7     mb  _doc  K0lOxnMBorHmjmbLhXty     1.0   \n8     mb  _doc  LElOxnMBorHmjmbLhnss     1.0   \n9     mb  _doc  LklOxnMBorHmjmbLh3uj     1.0   \n\n                                   uuid test_type         test_name  routes  \\\n0  73770cda-358a-424a-8790-c39091874fb6      http  2r-large-4.5-OVN       4   \n1  f562f52d-a11b-404d-ac79-930c45e62c42       mix             smoke     400   \n2  f562f52d-a11b-404d-ac79-930c45e62c42       mix             smoke     400   \n3  c4fdebf9-8efa-4029-9540-7c8ef154bfa4      http             smoke     100   \n4  c4fdebf9-8efa-4029-9540-7c8ef154bfa4      http             smoke     100   \n5  c4fdebf9-8efa-4029-9540-7c8ef154bfa4       mix             smoke     400   \n6  f562f52d-a11b-404d-ac79-930c45e62c42       mix             smoke      40   \n7  f562f52d-a11b-404d-ac79-930c45e62c42      http             smoke     100   \n8  f562f52d-a11b-404d-ac79-930c45e62c42      edge             smoke     100   \n9  f562f52d-a11b-404d-ac79-930c45e62c42       mix             smoke     400   \n\n   conn_per_targetroute  keepalive tls_reuse  delay  runtime  \\\n0                     1          1         y      0       10   \n1                     1        100         y      0        5   \n2                    80          1         y      0        5   \n3                   200          1         y      0        5   \n4                   200        100         y      0        5   \n5                     1        100         y      0        5   \n6                     1        100         y      0        5   \n7                   200          1         y      0        5   \n8                   200        100         y      0        5   \n9                     1          1         y      0        5   \n\n   requests_per_second  latency_95pctl  num_workload_generators  \\\n0               1153.5           5.039                        1   \n1              57510.4          14.395                        1   \n2               3497.6        3284.570                        1   \n3              10066.4        3135.850                        1   \n4              39713.8        1088.480                        1   \n5              34938.6          24.110                        1   \n6              16722.8           2.994                        1   \n7               9279.8        3437.290                        1   \n8                 95.6        6766.120                        1   \n9               5627.8         162.619                        1   \n\n            timestamp_newyork  \n0  2020-08-06T23:14:53.696878  \n1  2020-08-07T00:25:02.294226  \n2  2020-08-07T00:25:02.480181  \n3  2020-08-07T01:18:17.515466  \n4  2020-08-07T01:18:17.885016  \n5  2020-08-07T01:18:18.253334  \n6  2020-08-07T00:24:59.997896  \n7  2020-08-07T00:25:01.548634  \n8  2020-08-07T00:25:01.735382  \n9  2020-08-07T00:25:02.106998  ",
      "text/html": "<div>\n<style scoped>\n    .dataframe tbody tr th:only-of-type {\n        vertical-align: middle;\n    }\n\n    .dataframe tbody tr th {\n        vertical-align: top;\n    }\n\n    .dataframe thead th {\n        text-align: right;\n    }\n</style>\n<table border=\"1\" class=\"dataframe\">\n  <thead>\n    <tr style=\"text-align: right;\">\n      <th></th>\n      <th>_index</th>\n      <th>_type</th>\n      <th>_id</th>\n      <th>_score</th>\n      <th>uuid</th>\n      <th>test_type</th>\n      <th>test_name</th>\n      <th>routes</th>\n      <th>conn_per_targetroute</th>\n      <th>keepalive</th>\n      <th>tls_reuse</th>\n      <th>delay</th>\n      <th>runtime</th>\n      <th>requests_per_second</th>\n      <th>latency_95pctl</th>\n      <th>num_workload_generators</th>\n      <th>timestamp_newyork</th>\n    </tr>\n  </thead>\n  <tbody>\n    <tr>\n      <th>0</th>\n      <td>mb</td>\n      <td>_doc</td>\n      <td>IUkOxnMBorHmjmbLUHuN</td>\n      <td>1.0</td>\n      <td>73770cda-358a-424a-8790-c39091874fb6</td>\n      <td>http</td>\n      <td>2r-large-4.5-OVN</td>\n      <td>4</td>\n      <td>1</td>\n      <td>1</td>\n      <td>y</td>\n      <td>0</td>\n      <td>10</td>\n      <td>1153.5</td>\n      <td>5.039</td>\n      <td>1</td>\n      <td>2020-08-06T23:14:53.696878</td>\n    </tr>\n    <tr>\n      <th>1</th>\n      <td>mb</td>\n      <td>_doc</td>\n      <td>L0lOxnMBorHmjmbLiHtc</td>\n      <td>1.0</td>\n      <td>f562f52d-a11b-404d-ac79-930c45e62c42</td>\n      <td>mix</td>\n      <td>smoke</td>\n      <td>400</td>\n      <td>1</td>\n      <td>100</td>\n      <td>y</td>\n      <td>0</td>\n      <td>5</td>\n      <td>57510.4</td>\n      <td>14.395</td>\n      <td>1</td>\n      <td>2020-08-07T00:25:02.294226</td>\n    </tr>\n    <tr>\n      <th>2</th>\n      <td>mb</td>\n      <td>_doc</td>\n      <td>MElOxnMBorHmjmbLiXsV</td>\n      <td>1.0</td>\n      <td>f562f52d-a11b-404d-ac79-930c45e62c42</td>\n      <td>mix</td>\n      <td>smoke</td>\n      <td>400</td>\n      <td>80</td>\n      <td>1</td>\n      <td>y</td>\n      <td>0</td>\n      <td>5</td>\n      <td>3497.6</td>\n      <td>3284.570</td>\n      <td>1</td>\n      <td>2020-08-07T00:25:02.480181</td>\n    </tr>\n    <tr>\n      <th>3</th>\n      <td>mb</td>\n      <td>_doc</td>\n      <td>O0l_xnMBorHmjmbLSXux</td>\n      <td>1.0</td>\n      <td>c4fdebf9-8efa-4029-9540-7c8ef154bfa4</td>\n      <td>http</td>\n      <td>smoke</td>\n      <td>100</td>\n      <td>200</td>\n      <td>1</td>\n      <td>y</td>\n      <td>0</td>\n      <td>5</td>\n      <td>10066.4</td>\n      <td>3135.850</td>\n      <td>1</td>\n      <td>2020-08-07T01:18:17.515466</td>\n    </tr>\n    <tr>\n      <th>4</th>\n      <td>mb</td>\n      <td>_doc</td>\n      <td>PUl_xnMBorHmjmbLS3si</td>\n      <td>1.0</td>\n      <td>c4fdebf9-8efa-4029-9540-7c8ef154bfa4</td>\n      <td>http</td>\n      <td>smoke</td>\n      <td>100</td>\n      <td>200</td>\n      <td>100</td>\n      <td>y</td>\n      <td>0</td>\n      <td>5</td>\n      <td>39713.8</td>\n      <td>1088.480</td>\n      <td>1</td>\n      <td>2020-08-07T01:18:17.885016</td>\n    </tr>\n    <tr>\n      <th>5</th>\n      <td>mb</td>\n      <td>_doc</td>\n      <td>P0l_xnMBorHmjmbLTHuS</td>\n      <td>1.0</td>\n      <td>c4fdebf9-8efa-4029-9540-7c8ef154bfa4</td>\n      <td>mix</td>\n      <td>smoke</td>\n      <td>400</td>\n      <td>1</td>\n      <td>100</td>\n      <td>y</td>\n      <td>0</td>\n      <td>5</td>\n      <td>34938.6</td>\n      <td>24.110</td>\n      <td>1</td>\n      <td>2020-08-07T01:18:18.253334</td>\n    </tr>\n    <tr>\n      <th>6</th>\n      <td>mb</td>\n      <td>_doc</td>\n      <td>I0lOxnMBorHmjmbLf3t2</td>\n      <td>1.0</td>\n      <td>f562f52d-a11b-404d-ac79-930c45e62c42</td>\n      <td>mix</td>\n      <td>smoke</td>\n      <td>40</td>\n      <td>1</td>\n      <td>100</td>\n      <td>y</td>\n      <td>0</td>\n      <td>5</td>\n      <td>16722.8</td>\n      <td>2.994</td>\n      <td>1</td>\n      <td>2020-08-07T00:24:59.997896</td>\n    </tr>\n    <tr>\n      <th>7</th>\n      <td>mb</td>\n      <td>_doc</td>\n      <td>K0lOxnMBorHmjmbLhXty</td>\n      <td>1.0</td>\n      <td>f562f52d-a11b-404d-ac79-930c45e62c42</td>\n      <td>http</td>\n      <td>smoke</td>\n      <td>100</td>\n      <td>200</td>\n      <td>1</td>\n      <td>y</td>\n      <td>0</td>\n      <td>5</td>\n      <td>9279.8</td>\n      <td>3437.290</td>\n      <td>1</td>\n      <td>2020-08-07T00:25:01.548634</td>\n    </tr>\n    <tr>\n      <th>8</th>\n      <td>mb</td>\n      <td>_doc</td>\n      <td>LElOxnMBorHmjmbLhnss</td>\n      <td>1.0</td>\n      <td>f562f52d-a11b-404d-ac79-930c45e62c42</td>\n      <td>edge</td>\n      <td>smoke</td>\n      <td>100</td>\n      <td>200</td>\n      <td>100</td>\n      <td>y</td>\n      <td>0</td>\n      <td>5</td>\n      <td>95.6</td>\n      <td>6766.120</td>\n      <td>1</td>\n      <td>2020-08-07T00:25:01.735382</td>\n    </tr>\n    <tr>\n      <th>9</th>\n      <td>mb</td>\n      <td>_doc</td>\n      <td>LklOxnMBorHmjmbLh3uj</td>\n      <td>1.0</td>\n      <td>f562f52d-a11b-404d-ac79-930c45e62c42</td>\n      <td>mix</td>\n      <td>smoke</td>\n      <td>400</td>\n      <td>1</td>\n      <td>1</td>\n      <td>y</td>\n      <td>0</td>\n      <td>5</td>\n      <td>5627.8</td>\n      <td>162.619</td>\n      <td>1</td>\n      <td>2020-08-07T00:25:02.106998</td>\n    </tr>\n  </tbody>\n</table>\n</div>"
     },
     "execution_count": 15,
     "metadata": {},
     "output_type": "execute_result"
    }
   ],
   "source": [
    "df = pandasticsearch.Select.from_dict(docs).to_pandas()\n",
    "df"
   ],
   "metadata": {
    "collapsed": false,
    "pycharm": {
     "name": "#%%\n"
    }
   }
  },
  {
   "cell_type": "code",
   "execution_count": 21,
   "outputs": [
    {
     "data": {
      "text/plain": "3"
     },
     "execution_count": 21,
     "metadata": {},
     "output_type": "execute_result"
    }
   ],
   "source": [
    "df['uuid'].nunique()"
   ],
   "metadata": {
    "collapsed": false,
    "pycharm": {
     "name": "#%%\n"
    }
   }
  }
 ],
 "metadata": {
  "kernelspec": {
   "display_name": "Python 3",
   "language": "python",
   "name": "python3"
  },
  "language_info": {
   "codemirror_mode": {
    "name": "ipython",
    "version": 2
   },
   "file_extension": ".py",
   "mimetype": "text/x-python",
   "name": "python",
   "nbconvert_exporter": "python",
   "pygments_lexer": "ipython2",
   "version": "2.7.6"
  }
 },
 "nbformat": 4,
 "nbformat_minor": 0
}